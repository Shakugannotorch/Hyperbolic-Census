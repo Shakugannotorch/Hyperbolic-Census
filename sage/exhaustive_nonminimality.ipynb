{
 "cells": [
  {
   "cell_type": "code",
   "execution_count": 1,
   "metadata": {
    "vscode": {
     "languageId": "python"
    }
   },
   "outputs": [],
   "source": [
    "import regina"
   ]
  },
  {
   "cell_type": "markdown",
   "metadata": {},
   "source": [
    "### $n=9$"
   ]
  },
  {
   "cell_type": "code",
   "execution_count": 17,
   "metadata": {
    "vscode": {
     "languageId": "python"
    }
   },
   "outputs": [
    {
     "name": "stdout",
     "output_type": "stream",
     "text": [
      "simplified: 6031\n",
      "leave out: 648\n"
     ]
    }
   ],
   "source": [
    "n = 9\n",
    "level = 3\n",
    "\n",
    "h = 2\n",
    "\n",
    "nm_count = 0\n",
    "lf_count = 0 \n",
    "\n",
    "with open(\"../data/tricensus_\"+str(n)+\"/leftovers/level_\"+str(level)+\".dat\",\"r\") as f:\n",
    "    with open(\"../data/tricensus_\"+str(n)+\"/leftovers/level_\"+str(level+1)+\".dat\",\"w\") as lf:\n",
    "         with open(\"../data/tricensus_\"+str(n)+\"/ruled_out/exhaustive_simplified_\"+str(h)+\".dat\",\"w\") as nm:\n",
    "                for sg in f:\n",
    "                    if regina.Triangulation3(sg.strip()).simplifyExhaustive(h):\n",
    "                        nm.write(sg)\n",
    "                        nm_count +=1\n",
    "                    else:\n",
    "                        lf.write(sg)\n",
    "                        lf_count +=1\n",
    "\n",
    "print(\"simplified: \" + str(nm_count))\n",
    "print(\"leave out: \" + str(lf_count))"
   ]
  },
  {
   "cell_type": "code",
   "execution_count": 18,
   "metadata": {
    "vscode": {
     "languageId": "python"
    }
   },
   "outputs": [
    {
     "name": "stdout",
     "output_type": "stream",
     "text": [
      "simplified: 492\n",
      "leave out: 156\n"
     ]
    }
   ],
   "source": [
    "n = 9\n",
    "level = 4\n",
    "\n",
    "h = 3\n",
    "\n",
    "nm_count = 0\n",
    "lf_count = 0 \n",
    "\n",
    "with open(\"../data/tricensus_\"+str(n)+\"/leftovers/level_\"+str(level)+\".dat\",\"r\") as f:\n",
    "    with open(\"../data/tricensus_\"+str(n)+\"/leftovers/level_\"+str(level+1)+\".dat\",\"w\") as lf:\n",
    "         with open(\"../data/tricensus_\"+str(n)+\"/ruled_out/exhaustive_simplified_\"+str(h)+\".dat\",\"w\") as nm:\n",
    "                for sg in f:\n",
    "                    if regina.Triangulation3(sg.strip()).simplifyExhaustive(h):\n",
    "                        nm.write(sg)\n",
    "                        nm_count +=1\n",
    "                    else:\n",
    "                        lf.write(sg)\n",
    "                        lf_count +=1\n",
    "\n",
    "print(\"simplified: \" + str(nm_count))\n",
    "print(\"leave out: \" + str(lf_count))"
   ]
  },
  {
   "cell_type": "code",
   "execution_count": 19,
   "metadata": {
    "vscode": {
     "languageId": "python"
    }
   },
   "outputs": [
    {
     "name": "stdout",
     "output_type": "stream",
     "text": [
      "simplified: 107\n",
      "leave out: 49\n"
     ]
    }
   ],
   "source": [
    "n = 9\n",
    "level = 5\n",
    "\n",
    "h = 4\n",
    "\n",
    "nm_count = 0\n",
    "lf_count = 0 \n",
    "\n",
    "with open(\"../data/tricensus_\"+str(n)+\"/leftovers/level_\"+str(level)+\".dat\",\"r\") as f:\n",
    "    with open(\"../data/tricensus_\"+str(n)+\"/leftovers/level_\"+str(level+1)+\".dat\",\"w\") as lf:\n",
    "         with open(\"../data/tricensus_\"+str(n)+\"/ruled_out/exhaustive_simplified_\"+str(h)+\".dat\",\"w\") as nm:\n",
    "                for sg in f:\n",
    "                    if regina.Triangulation3(sg.strip()).simplifyExhaustive(h):\n",
    "                        nm.write(sg)\n",
    "                        nm_count +=1\n",
    "                    else:\n",
    "                        lf.write(sg)\n",
    "                        lf_count +=1\n",
    "\n",
    "print(\"simplified: \" + str(nm_count))\n",
    "print(\"leave out: \" + str(lf_count))"
   ]
  },
  {
   "cell_type": "code",
   "execution_count": 20,
   "metadata": {
    "vscode": {
     "languageId": "python"
    }
   },
   "outputs": [
    {
     "name": "stdout",
     "output_type": "stream",
     "text": [
      "simplified: 2\n",
      "leave out: 0\n"
     ]
    }
   ],
   "source": [
    "n = 9\n",
    "level = 9\n",
    "\n",
    "h = 5\n",
    "\n",
    "nm_count = 0\n",
    "lf_count = 0 \n",
    "\n",
    "with open(\"../data/tricensus_\"+str(n)+\"/leftovers/level_\"+str(level)+\".dat\",\"r\") as f:\n",
    "    with open(\"../data/tricensus_\"+str(n)+\"/leftovers/level_\"+str(level+1)+\".dat\",\"w\") as lf:\n",
    "         with open(\"../data/tricensus_\"+str(n)+\"/ruled_out/exhaustive_simplified_\"+str(h)+\".dat\",\"w\") as nm:\n",
    "                for sg in f:\n",
    "                    if regina.Triangulation3(sg.strip()).simplifyExhaustive(h):\n",
    "                        nm.write(sg)\n",
    "                        nm_count +=1\n",
    "                    else:\n",
    "                        lf.write(sg)\n",
    "                        lf_count +=1\n",
    "\n",
    "print(\"simplified: \" + str(nm_count))\n",
    "print(\"leave out: \" + str(lf_count))"
   ]
  },
  {
   "cell_type": "markdown",
   "metadata": {},
   "source": [
    "## $n\\leq 8$"
   ]
  },
  {
   "cell_type": "markdown",
   "metadata": {},
   "source": [
    "### $n=8$"
   ]
  },
  {
   "cell_type": "code",
   "execution_count": 11,
   "metadata": {
    "vscode": {
     "languageId": "python"
    }
   },
   "outputs": [
    {
     "name": "stdout",
     "output_type": "stream",
     "text": [
      "simplified: 1409\n",
      "leave out: 71\n"
     ]
    }
   ],
   "source": [
    "n = 8\n",
    "\n",
    "nm_count = 0\n",
    "lf_count = 0 \n",
    "\n",
    "with open(\"../data/tricensus_\"+str(n)+\"/leftovers/level_4.dat\",\"r\") as f:\n",
    "    with open(\"../data/tricensus_\"+str(n)+\"/leftovers/level_5.dat\",\"w\") as lf:\n",
    "         with open(\"../data/tricensus_\"+str(n)+\"/ruled_out/exhaustive_simplified_2.dat\",\"w\") as nm:\n",
    "                for sg in f:\n",
    "                    if regina.Triangulation3(sg.strip()).simplifyExhaustive(2):\n",
    "                        nm.write(sg)\n",
    "                        nm_count +=1\n",
    "                    else:\n",
    "                        lf.write(sg)\n",
    "                        lf_count +=1\n",
    "\n",
    "print(\"simplified: \" + str(nm_count))\n",
    "print(\"leave out: \" + str(lf_count))"
   ]
  },
  {
   "cell_type": "code",
   "execution_count": 15,
   "metadata": {
    "vscode": {
     "languageId": "python"
    }
   },
   "outputs": [
    {
     "name": "stdout",
     "output_type": "stream",
     "text": [
      "simplified: 58\n",
      "leave out: 13\n"
     ]
    }
   ],
   "source": [
    "n = 8\n",
    "\n",
    "nm_count = 0\n",
    "lf_count = 0 \n",
    "\n",
    "with open(\"../data/tricensus_\"+str(n)+\"/leftovers/level_5.dat\",\"r\") as f:\n",
    "    with open(\"../data/tricensus_\"+str(n)+\"/leftovers/level_6.dat\",\"w\") as lf:\n",
    "         with open(\"../data/tricensus_\"+str(n)+\"/ruled_out/exhaustive_simplified_3.dat\",\"w\") as nm:\n",
    "                for sg in f:\n",
    "                    if regina.Triangulation3(sg.strip()).simplifyExhaustive(3):\n",
    "                        nm.write(sg)\n",
    "                        nm_count +=1\n",
    "                    else:\n",
    "                        lf.write(sg)\n",
    "                        lf_count +=1\n",
    "\n",
    "print(\"simplified: \" + str(nm_count))\n",
    "print(\"leave out: \" + str(lf_count))"
   ]
  },
  {
   "cell_type": "code",
   "execution_count": 16,
   "metadata": {
    "vscode": {
     "languageId": "python"
    }
   },
   "outputs": [
    {
     "name": "stdout",
     "output_type": "stream",
     "text": [
      "simplified: 6\n",
      "leave out: 7\n"
     ]
    }
   ],
   "source": [
    "n = 8\n",
    "level = 6\n",
    "\n",
    "h = 4\n",
    "\n",
    "nm_count = 0\n",
    "lf_count = 0 \n",
    "\n",
    "with open(\"../data/tricensus_\"+str(n)+\"/leftovers/level_\"+str(level)+\".dat\",\"r\") as f:\n",
    "    with open(\"../data/tricensus_\"+str(n)+\"/leftovers/level_\"+str(level+1)+\".dat\",\"w\") as lf:\n",
    "         with open(\"../data/tricensus_\"+str(n)+\"/ruled_out/exhaustive_simplified_\"+str(h)+\".dat\",\"w\") as nm:\n",
    "                for sg in f:\n",
    "                    if regina.Triangulation3(sg.strip()).simplifyExhaustive(h):\n",
    "                        nm.write(sg)\n",
    "                        nm_count +=1\n",
    "                    else:\n",
    "                        lf.write(sg)\n",
    "                        lf_count +=1\n",
    "\n",
    "print(\"simplified: \" + str(nm_count))\n",
    "print(\"leave out: \" + str(lf_count))"
   ]
  },
  {
   "cell_type": "code",
   "execution_count": 6,
   "metadata": {
    "vscode": {
     "languageId": "python"
    }
   },
   "outputs": [
    {
     "name": "stdout",
     "output_type": "stream",
     "text": [
      "simplified: 287\n",
      "leave out: 3\n"
     ]
    }
   ],
   "source": [
    "n = 7\n",
    "\n",
    "nm_count = 0\n",
    "lf_count = 0 \n",
    "\n",
    "with open(\"../data/tricensus_\"+str(n)+\"/leftovers/level_4.dat\",\"r\") as f:\n",
    "    with open(\"../data/tricensus_\"+str(n)+\"/leftovers/level_5.dat\",\"w\") as lf:\n",
    "         with open(\"../data/tricensus_\"+str(n)+\"/ruled_out/exhaustive_simplified_2.dat\",\"w\") as nm:\n",
    "                for sg in f:\n",
    "                    if regina.Triangulation3(sg.strip()).simplifyExhaustive(2):\n",
    "                        nm.write(sg)\n",
    "                        nm_count +=1\n",
    "                    else:\n",
    "                        lf.write(sg)\n",
    "                        lf_count +=1\n",
    "\n",
    "print(\"simplified: \" + str(nm_count))\n",
    "print(\"leave out: \" + str(lf_count))"
   ]
  },
  {
   "cell_type": "code",
   "execution_count": 5,
   "metadata": {
    "vscode": {
     "languageId": "python"
    }
   },
   "outputs": [
    {
     "name": "stdout",
     "output_type": "stream",
     "text": [
      "simplified: 3\n",
      "leave out: 0\n"
     ]
    }
   ],
   "source": [
    "n = 7\n",
    "\n",
    "nm_count = 0\n",
    "lf_count = 0 \n",
    "\n",
    "with open(\"../data/tricensus_\"+str(n)+\"/leftovers/level_5.dat\",\"r\") as f:\n",
    "    with open(\"../data/tricensus_\"+str(n)+\"/leftovers/level_6.dat\",\"w\") as lf:\n",
    "         with open(\"../data/tricensus_\"+str(n)+\"/ruled_out/exhaustive_simplified_3.dat\",\"w\") as nm:\n",
    "                for sg in f:\n",
    "                    if regina.Triangulation3(sg.strip()).simplifyExhaustive(3):\n",
    "                        nm.write(sg)\n",
    "                        nm_count +=1\n",
    "                    else:\n",
    "                        lf.write(sg)\n",
    "                        lf_count +=1\n",
    "\n",
    "print(\"simplified: \" + str(nm_count))\n",
    "print(\"leave out: \" + str(lf_count))"
   ]
  },
  {
   "cell_type": "code",
   "execution_count": 10,
   "metadata": {
    "vscode": {
     "languageId": "python"
    }
   },
   "outputs": [
    {
     "name": "stdout",
     "output_type": "stream",
     "text": [
      "simplified: 2\n",
      "leave out: 0\n"
     ]
    }
   ],
   "source": [
    "n = 5\n",
    "\n",
    "nm_count = 0\n",
    "lf_count = 0 \n",
    "\n",
    "with open(\"../data/tricensus_\"+str(n)+\"/leftovers/level_3.dat\",\"r\") as f:\n",
    "    with open(\"../data/tricensus_\"+str(n)+\"/leftovers/level_4.dat\",\"w\") as lf:\n",
    "         with open(\"../data/tricensus_\"+str(n)+\"/ruled_out/exhaustive_simplified_3.dat\",\"w\") as nm:\n",
    "                for sg in f:\n",
    "                    if regina.Triangulation3(sg.strip()).simplifyExhaustive(3):\n",
    "                        nm.write(sg)\n",
    "                        nm_count +=1\n",
    "                    else:\n",
    "                        lf.write(sg)\n",
    "                        lf_count +=1\n",
    "\n",
    "print(\"simplified: \" + str(nm_count))\n",
    "print(\"leave out: \" + str(lf_count))"
   ]
  },
  {
   "cell_type": "code",
   "execution_count": null,
   "metadata": {
    "vscode": {
     "languageId": "python"
    }
   },
   "outputs": [],
   "source": []
  }
 ],
 "metadata": {
  "kernelspec": {
   "display_name": "SageMath 10.4",
   "language": "sage",
   "name": "SageMath-10.4"
  },
  "language_info": {
   "codemirror_mode": {
    "name": "ipython",
    "version": 3
   },
   "file_extension": ".py",
   "mimetype": "text/x-python",
   "name": "sage",
   "nbconvert_exporter": "python",
   "pygments_lexer": "ipython3",
   "version": "3.12.4"
  }
 },
 "nbformat": 4,
 "nbformat_minor": 2
}
