{
 "cells": [
  {
   "cell_type": "code",
   "execution_count": 4,
   "metadata": {},
   "outputs": [],
   "source": [
    "import regina"
   ]
  },
  {
   "cell_type": "code",
   "execution_count": 12,
   "metadata": {},
   "outputs": [
    {
     "name": "stdout",
     "output_type": "stream",
     "text": [
      "simplified: 269\n",
      "leave out: 806\n"
     ]
    }
   ],
   "source": [
    "n=5\n",
    "\n",
    "nm_count = 0\n",
    "ot_count = 0 \n",
    "\n",
    "with open(\"../data/tricensus_\"+str(n)+\"/leftovers/level_1.dat\",\"w\") as ot:\n",
    "    with open(\"../data/tricensus_\"+str(n)+\"/ruled_out/intelligent_simplified.dat\",\"w\") as nm:\n",
    "        with open(\"../raw_data/tricensus_\"+str(n)+\".dat\",\"r\") as f:\n",
    "            for sg in f:\n",
    "                if regina.Triangulation3(sg).intelligentSimplify():\n",
    "                    nm.write(sg)\n",
    "                    nm_count +=1\n",
    "                else:\n",
    "                    ot.write(sg)\n",
    "                    ot_count +=1\n",
    "\n",
    "print(\"simplified: \" + str(nm_count))\n",
    "print(\"leave out: \" + str(ot_count))"
   ]
  },
  {
   "cell_type": "code",
   "execution_count": 7,
   "metadata": {},
   "outputs": [
    {
     "name": "stdout",
     "output_type": "stream",
     "text": [
      "simplified: 25\n",
      "leave out: 199\n"
     ]
    }
   ],
   "source": [
    "n=4\n",
    "\n",
    "nm_count = 0\n",
    "ot_count = 0 \n",
    "\n",
    "with open(\"../data/tricensus_\"+str(n)+\"/leftovers/level_1.dat\",\"w\") as ot:\n",
    "    with open(\"../data/tricensus_\"+str(n)+\"/ruled_out/intelligent_simplified.dat\",\"w\") as nm:\n",
    "        with open(\"../raw_data/tricensus_\"+str(n)+\".dat\",\"r\") as f:\n",
    "            for sg in f:\n",
    "                if regina.Triangulation3(sg).intelligentSimplify():\n",
    "                    nm.write(sg)\n",
    "                    nm_count +=1\n",
    "                else:\n",
    "                    ot.write(sg)\n",
    "                    ot_count +=1\n",
    "\n",
    "print(\"simplified: \" + str(nm_count))\n",
    "print(\"leave out: \" + str(ot_count))"
   ]
  },
  {
   "cell_type": "code",
   "execution_count": 5,
   "metadata": {},
   "outputs": [
    {
     "name": "stdout",
     "output_type": "stream",
     "text": [
      "simplified: 0\n",
      "leave out: 31\n"
     ]
    }
   ],
   "source": [
    "n=3\n",
    "\n",
    "nm_count = 0\n",
    "ot_count = 0 \n",
    "\n",
    "with open(\"../data/tricensus_\"+str(n)+\"/leftovers/level_1.dat\",\"w\") as ot:\n",
    "    with open(\"../data/tricensus_\"+str(n)+\"/ruled_out/intelligent_simplified.dat\",\"w\") as nm:\n",
    "        with open(\"../raw_data/tricensus_\"+str(n)+\".dat\",\"r\") as f:\n",
    "            for sg in f:\n",
    "                if regina.Triangulation3(sg).intelligentSimplify():\n",
    "                    nm.write(sg)\n",
    "                    nm_count +=1\n",
    "                else:\n",
    "                    ot.write(sg)\n",
    "                    ot_count +=1\n",
    "\n",
    "print(\"simplified: \" + str(nm_count))\n",
    "print(\"leave out: \" + str(ot_count))"
   ]
  },
  {
   "cell_type": "code",
   "execution_count": null,
   "metadata": {},
   "outputs": [
    {
     "name": "stdout",
     "output_type": "stream",
     "text": [
      "simplified: 16615\n",
      "leave out: 18697\n"
     ]
    }
   ],
   "source": [
    "n=7\n",
    "\n",
    "nm_count = 0\n",
    "ot_count = 0 \n",
    "\n",
    "with open(\"../data/tricensus_\"+str(n)+\"/leftovers/level_1.dat\",\"w\") as ot:\n",
    "    with open(\"../data/tricensus_\"+str(n)+\"/ruled_out/intelligent_simplified.dat\",\"w\") as nm:\n",
    "        with open(\"../raw_data/tricensus_\"+str(n)+\".dat\",\"r\") as f:\n",
    "            for sg in f:\n",
    "                if regina.Triangulation3(sg).intelligentSimplify():\n",
    "                    nm.write(sg)\n",
    "                    nm_count +=1\n",
    "                else:\n",
    "                    ot.write(sg)\n",
    "                    ot_count +=1\n",
    "\n",
    "print(\"simplified: \" + str(nm_count))\n",
    "print(\"leave out: \" + str(ot_count))"
   ]
  },
  {
   "cell_type": "code",
   "execution_count": 13,
   "metadata": {},
   "outputs": [
    {
     "name": "stdout",
     "output_type": "stream",
     "text": [
      "simplified: 130872\n",
      "leave out: 87604\n"
     ]
    }
   ],
   "source": [
    "n=8\n",
    "\n",
    "nm_count = 0\n",
    "ot_count = 0 \n",
    "\n",
    "with open(\"../data/tricensus_\"+str(n)+\"/leftovers/level_1.dat\",\"w\") as ot:\n",
    "    with open(\"../data/tricensus_\"+str(n)+\"/ruled_out/intelligent_simplified.dat\",\"w\") as nm:\n",
    "        with open(\"../raw_data/tricensus_\"+str(n)+\".dat\",\"r\") as f:\n",
    "            for sg in f:\n",
    "                if regina.Triangulation3(sg).intelligentSimplify():\n",
    "                    nm.write(sg)\n",
    "                    nm_count +=1\n",
    "                else:\n",
    "                    ot.write(sg)\n",
    "                    ot_count +=1\n",
    "\n",
    "print(\"simplified: \" + str(nm_count))\n",
    "print(\"leave out: \" + str(ot_count))"
   ]
  },
  {
   "cell_type": "code",
   "execution_count": 15,
   "metadata": {},
   "outputs": [
    {
     "name": "stdout",
     "output_type": "stream",
     "text": [
      "simplified: 902306\n",
      "leave out: 410746\n"
     ]
    }
   ],
   "source": [
    "n=9\n",
    "\n",
    "nm_count = 0\n",
    "ot_count = 0 \n",
    "\n",
    "with open(\"../data/tricensus_\"+str(n)+\"/leftovers/level_1.dat\",\"w\") as ot:\n",
    "    with open(\"../data/tricensus_\"+str(n)+\"/ruled_out/intelligent_simplified.dat\",\"w\") as nm:\n",
    "        with open(\"../raw_data/tricensus_\"+str(n)+\".dat\",\"r\") as f:\n",
    "            for sg in f:\n",
    "                if regina.Triangulation3(sg).intelligentSimplify():\n",
    "                    nm.write(sg)\n",
    "                    nm_count +=1\n",
    "                else:\n",
    "                    ot.write(sg)\n",
    "                    ot_count +=1\n",
    "\n",
    "print(\"simplified: \" + str(nm_count))\n",
    "print(\"leave out: \" + str(ot_count))"
   ]
  },
  {
   "cell_type": "code",
   "execution_count": null,
   "metadata": {},
   "outputs": [],
   "source": []
  }
 ],
 "metadata": {
  "kernelspec": {
   "display_name": "SageMath 10.4",
   "language": "sage",
   "name": "SageMath-10.4"
  },
  "language_info": {
   "codemirror_mode": {
    "name": "ipython",
    "version": 3
   },
   "file_extension": ".py",
   "mimetype": "text/x-python",
   "name": "python",
   "nbconvert_exporter": "python",
   "pygments_lexer": "ipython3",
   "version": "3.12.4"
  }
 },
 "nbformat": 4,
 "nbformat_minor": 2
}
