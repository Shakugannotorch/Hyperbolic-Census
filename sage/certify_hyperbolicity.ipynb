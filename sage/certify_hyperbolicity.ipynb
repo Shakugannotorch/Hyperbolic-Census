{
 "cells": [
  {
   "cell_type": "code",
   "execution_count": null,
   "metadata": {
    "vscode": {
     "languageId": "python"
    }
   },
   "outputs": [],
   "source": [
    "import snappy"
   ]
  },
  {
   "cell_type": "markdown",
   "metadata": {},
   "source": [
    "### $n=9$"
   ]
  },
  {
   "cell_type": "code",
   "execution_count": null,
   "metadata": {
    "vscode": {
     "languageId": "python"
    }
   },
   "outputs": [
    {
     "name": "stdout",
     "output_type": "stream",
     "text": [
      "error happened when handling: jLAwPLQbcbdgghhiihxjpmipfrr\n",
      "\n",
      "error happened when handling: jLAwPLQbcbdgghhiihxjpmipfrn\n",
      "\n",
      "error happened when handling: jLAwPLQbcbdgghhiihxjpmipfrn\n",
      "\n",
      "error happened when handling: jLAwPLQbcbdgghhiihxjpmipfrn\n",
      "\n",
      "error happened when handling: jLAwLPQcbbdgiihihhqnptpuscw\n",
      "\n",
      "error happened when handling: jLAwLPQcbbdgiihihhqnptpuscs\n",
      "\n",
      "error happened when handling: jLAwLPQcbbdgiihihhqnptpuscs\n",
      "\n",
      "error happened when handling: jLLMALQceeddfhihiiimjjbghss\n",
      "\n",
      "error happened when handling: jLLMALQceeddfhihiiimjwbghsw\n",
      "\n",
      "error happened when handling: jLLAPPPbcdegfghiihbfunvrahr\n",
      "\n",
      "error happened when handling: jLLAPPPbcdegfghiihbfunvrahr\n",
      "\n",
      "error happened when handling: jLLAPPPbcdegfghiihbfunvrahr\n",
      "\n",
      "error happened when handling: jLLAPPPbcdegfghiihbfunvrahr\n",
      "\n",
      "error happened when handling: jLLAPPPbcdegfghiihbfunvrhhw\n",
      "\n",
      "error happened when handling: jLLLMQPbefghfhhiihhuhigjktn\n",
      "\n",
      "error happened when handling: jLLAALQcdceffhhiiqkkhisvwiw\n",
      "\n",
      "error happened when handling: jLLAALQcdceffhhiiqkkhisvwij\n",
      "\n",
      "error happened when handling: jLLAALQcdceffhhiiqkkhisvwij\n",
      "\n",
      "error happened when handling: jLLAPLQbecdffhhiixxrbjcdegj\n",
      "\n",
      "error happened when handling: jLAwPLQbbcdgghhiihtgumipfrn\n",
      "\n",
      "error happened when handling: jLAwLPQbccdgiihihlisitpuscs\n",
      "\n",
      "error happened when handling: jLAwLPQbccdgiihihlisitpuscs\n",
      "\n",
      "error happened when handling: jLAwLPQbccdgiihihlisitpuscs\n",
      "\n",
      "error happened when handling: jLAwLPQbccdgiihihlisitpuscs\n",
      "\n",
      "error happened when handling: jLAwLPQbccdgiihihlisitpuscw\n",
      "\n",
      "error happened when handling: jLAwLPQbccdgiihihlisitpuscw\n",
      "\n",
      "error happened when handling: jLLALAQacdehhhiiijjuxpsclta\n",
      "\n",
      "error happened when handling: jLLALAQacdehhhiiijjuxpsclta\n",
      "\n",
      "error happened when handling: jLLMzAQcdcffghhiiqvolcolxfn\n",
      "\n",
      "confirmed: 216586\n",
      "leave out: 194160\n"
     ]
    }
   ],
   "source": [
    "n=9\n",
    "level = 1\n",
    "r = 20\n",
    "\n",
    "lf_count = 0\n",
    "cf_count = 0\n",
    "\n",
    "with open(\"../data/tricensus_\"+str(n)+\"/leftovers/level_\"+str(level)+\".dat\",\"r\") as f:\n",
    "    with open(\"../data/tricensus_\"+str(n)+\"/leftovers/level_\"+str(level+1)+\".dat\",\"w\") as lf:\n",
    "        with open(\"../data/tricensus_\"+str(n)+\"/confirmed/randomization_\"+str(r)+\".dat\",\"w\") as cf:\n",
    "            for sg in f:\n",
    "                confirmed = False\n",
    "                m = snappy.Manifold(sg)\n",
    "                if not m.is_orientable():\n",
    "                    m = m.orientation_cover()\n",
    "\n",
    "                for i in range(r):\n",
    "                    m.randomize()\n",
    "\n",
    "                    try:\n",
    "                        if m.verify_hyperbolicity(bits_prec = 202)[0]:\n",
    "                            cf.write(sg)\n",
    "                            cf_count +=1\n",
    "                            confirmed = True\n",
    "                            break\n",
    "                    except:\n",
    "                        print(\"error happened when handling: \" + sg)\n",
    "\n",
    "                if not confirmed:\n",
    "                    lf.write(sg)\n",
    "                    lf_count += 1\n",
    "\n",
    "print(\"confirmed: \" + str(cf_count))\n",
    "print(\"leave out: \" + str(lf_count))"
   ]
  },
  {
   "cell_type": "code",
   "execution_count": 81,
   "metadata": {
    "vscode": {
     "languageId": "python"
    }
   },
   "outputs": [
    {
     "name": "stdout",
     "output_type": "stream",
     "text": [
      "confirmed: 43\n",
      "leave out: 6\n"
     ]
    }
   ],
   "source": [
    "n=9\n",
    "level = 6\n",
    "r = 40\n",
    "\n",
    "lf_count = 0\n",
    "cf_count = 0\n",
    "\n",
    "with open(\"../data/tricensus_\"+str(n)+\"/leftovers/level_\"+str(level)+\".dat\",\"r\") as f:\n",
    "    with open(\"../data/tricensus_\"+str(n)+\"/leftovers/level_\"+str(level+1)+\".dat\",\"w\") as lf:\n",
    "        with open(\"../data/tricensus_\"+str(n)+\"/confirmed/randomization_\"+str(r)+\".dat\",\"w\") as cf:\n",
    "            for sg in f:\n",
    "                confirmed = False\n",
    "                m = snappy.Manifold(sg)\n",
    "                if not m.is_orientable():\n",
    "                    m = m.orientation_cover()\n",
    "\n",
    "                for i in range(r):\n",
    "                    m.randomize()\n",
    "\n",
    "                    try:\n",
    "                        if m.verify_hyperbolicity(bits_prec = 202)[0]:\n",
    "                            cf.write(sg)\n",
    "                            cf_count +=1\n",
    "                            confirmed = True\n",
    "                            break\n",
    "                    except:\n",
    "                        print(\"error happened when handling: \" + sg)\n",
    "\n",
    "                if not confirmed:\n",
    "                    lf.write(sg)\n",
    "                    lf_count += 1\n",
    "\n",
    "print(\"confirmed: \" + str(cf_count))\n",
    "print(\"leave out: \" + str(lf_count))"
   ]
  },
  {
   "cell_type": "code",
   "execution_count": 82,
   "metadata": {
    "vscode": {
     "languageId": "python"
    }
   },
   "outputs": [
    {
     "name": "stdout",
     "output_type": "stream",
     "text": [
      "confirmed: 4\n",
      "leave out: 2\n"
     ]
    }
   ],
   "source": [
    "n=9\n",
    "level = 7\n",
    "r = 60\n",
    "\n",
    "lf_count = 0\n",
    "cf_count = 0\n",
    "\n",
    "with open(\"../data/tricensus_\"+str(n)+\"/leftovers/level_\"+str(level)+\".dat\",\"r\") as f:\n",
    "    with open(\"../data/tricensus_\"+str(n)+\"/leftovers/level_\"+str(level+1)+\".dat\",\"w\") as lf:\n",
    "        with open(\"../data/tricensus_\"+str(n)+\"/confirmed/randomization_\"+str(r)+\".dat\",\"w\") as cf:\n",
    "            for sg in f:\n",
    "                confirmed = False\n",
    "                m = snappy.Manifold(sg)\n",
    "                if not m.is_orientable():\n",
    "                    m = m.orientation_cover()\n",
    "\n",
    "                for i in range(r):\n",
    "                    m.randomize()\n",
    "\n",
    "                    try:\n",
    "                        if m.verify_hyperbolicity(bits_prec = 202)[0]:\n",
    "                            cf.write(sg)\n",
    "                            cf_count +=1\n",
    "                            confirmed = True\n",
    "                            break\n",
    "                    except:\n",
    "                        print(\"error happened when handling: \" + sg)\n",
    "\n",
    "                if not confirmed:\n",
    "                    lf.write(sg)\n",
    "                    lf_count += 1\n",
    "\n",
    "print(\"confirmed: \" + str(cf_count))\n",
    "print(\"leave out: \" + str(lf_count))"
   ]
  },
  {
   "cell_type": "code",
   "execution_count": 83,
   "metadata": {
    "vscode": {
     "languageId": "python"
    }
   },
   "outputs": [
    {
     "name": "stdout",
     "output_type": "stream",
     "text": [
      "confirmed: 0\n",
      "leave out: 2\n"
     ]
    }
   ],
   "source": [
    "n=9\n",
    "level = 8\n",
    "r = 100\n",
    "\n",
    "lf_count = 0\n",
    "cf_count = 0\n",
    "\n",
    "with open(\"../data/tricensus_\"+str(n)+\"/leftovers/level_\"+str(level)+\".dat\",\"r\") as f:\n",
    "    with open(\"../data/tricensus_\"+str(n)+\"/leftovers/level_\"+str(level+1)+\".dat\",\"w\") as lf:\n",
    "        with open(\"../data/tricensus_\"+str(n)+\"/confirmed/randomization_\"+str(r)+\".dat\",\"w\") as cf:\n",
    "            for sg in f:\n",
    "                confirmed = False\n",
    "                m = snappy.Manifold(sg)\n",
    "                if not m.is_orientable():\n",
    "                    m = m.orientation_cover()\n",
    "\n",
    "                for i in range(r):\n",
    "                    m.randomize()\n",
    "\n",
    "                    try:\n",
    "                        if m.verify_hyperbolicity(bits_prec = 202)[0]:\n",
    "                            cf.write(sg)\n",
    "                            cf_count +=1\n",
    "                            confirmed = True\n",
    "                            break\n",
    "                    except:\n",
    "                        print(\"error happened when handling: \" + sg)\n",
    "\n",
    "                if not confirmed:\n",
    "                    lf.write(sg)\n",
    "                    lf_count += 1\n",
    "\n",
    "print(\"confirmed: \" + str(cf_count))\n",
    "print(\"leave out: \" + str(lf_count))"
   ]
  },
  {
   "cell_type": "markdown",
   "metadata": {},
   "source": [
    "### $n=8$"
   ]
  },
  {
   "cell_type": "code",
   "execution_count": 77,
   "metadata": {
    "vscode": {
     "languageId": "python"
    }
   },
   "outputs": [
    {
     "name": "stdout",
     "output_type": "stream",
     "text": [
      "confirmed: 48091\n",
      "leave out: 39513\n"
     ]
    }
   ],
   "source": [
    "n=8\n",
    "\n",
    "lf_count = 0\n",
    "cf_count = 0 \n",
    "\n",
    "with open(\"../data/tricensus_\"+str(n)+\"/leftovers/level_1.dat\",\"r\") as f:\n",
    "    with open(\"../data/tricensus_\"+str(n)+\"/leftovers/level_2.dat\",\"w\") as lf:\n",
    "        with open(\"../data/tricensus_\"+str(n)+\"/confirmed/non_randomization.dat\",\"w\") as cf:\n",
    "            for sg in f:\n",
    "                m = snappy.Manifold(sg)\n",
    "                if not m.is_orientable():\n",
    "                    m = m.orientation_cover()\n",
    "                assert m.is_orientable()\n",
    "\n",
    "                m.randomize()\n",
    "                \n",
    "                if m.verify_hyperbolicity(bits_prec = 202)[0]:\n",
    "                    cf.write(sg)\n",
    "                    cf_count +=1\n",
    "                else:\n",
    "                    lf.write(sg)\n",
    "                    lf_count +=1\n",
    "\n",
    "print(\"confirmed: \" + str(cf_count))\n",
    "print(\"leave out: \" + str(lf_count))"
   ]
  },
  {
   "cell_type": "code",
   "execution_count": 78,
   "metadata": {
    "vscode": {
     "languageId": "python"
    }
   },
   "outputs": [
    {
     "name": "stdout",
     "output_type": "stream",
     "text": [
      "confirmed: 2458\n",
      "leave out: 1480\n"
     ]
    }
   ],
   "source": [
    "n=8\n",
    "\n",
    "lf_count = 0\n",
    "cf_count = 0\n",
    "\n",
    "with open(\"../data/tricensus_\"+str(n)+\"/leftovers/level_3.dat\",\"r\") as f:\n",
    "    with open(\"../data/tricensus_\"+str(n)+\"/leftovers/level_4.dat\",\"w\") as lf:\n",
    "        with open(\"../data/tricensus_\"+str(n)+\"/confirmed/randomization.dat\",\"w\") as cf:\n",
    "            for sg in f:\n",
    "                confirmed = False\n",
    "                m = snappy.Manifold(sg)\n",
    "                if not m.is_orientable():\n",
    "                    m = m.orientation_cover()\n",
    "\n",
    "                for i in range(12):\n",
    "                    m.randomize()\n",
    "\n",
    "                    try:\n",
    "                        if m.verify_hyperbolicity(bits_prec = 202)[0]:\n",
    "                            cf.write(sg)\n",
    "                            cf_count +=1\n",
    "                            confirmed = True\n",
    "                            break\n",
    "                    except:\n",
    "                        print(\"error happened when handling: \" + sg)\n",
    "\n",
    "                if not confirmed:\n",
    "                    lf.write(sg)\n",
    "                    lf_count += 1\n",
    "\n",
    "print(\"confirmed: \" + str(cf_count))\n",
    "print(\"leave out: \" + str(lf_count))"
   ]
  },
  {
   "cell_type": "code",
   "execution_count": null,
   "metadata": {
    "vscode": {
     "languageId": "python"
    }
   },
   "outputs": [
    {
     "name": "stdout",
     "output_type": "stream",
     "text": [
      "confirmed: 7\n",
      "leave out: 0\n"
     ]
    }
   ],
   "source": [
    "n=8\n",
    "level = 7\n",
    "r = 20\n",
    "\n",
    "lf_count = 0\n",
    "cf_count = 0\n",
    "\n",
    "with open(\"../data/tricensus_\"+str(n)+\"/leftovers/level_\"+str(level)+\".dat\",\"r\") as f:\n",
    "    with open(\"../data/tricensus_\"+str(n)+\"/leftovers/level_\"+str(level+1)+\".dat\",\"w\") as lf:\n",
    "        with open(\"../data/tricensus_\"+str(n)+\"/confirmed/randomization_\"+str(r)+\".dat\",\"w\") as cf:\n",
    "            for sg in f:\n",
    "                confirmed = False\n",
    "                m = snappy.Manifold(sg)\n",
    "                if not m.is_orientable():\n",
    "                    m = m.orientation_cover()\n",
    "\n",
    "                for i in range(20):\n",
    "                    m.randomize()\n",
    "\n",
    "                    try:\n",
    "                        if m.verify_hyperbolicity(bits_prec = 202)[0]:\n",
    "                            cf.write(sg)\n",
    "                            cf_count +=1\n",
    "                            confirmed = True\n",
    "                            break\n",
    "                    except:\n",
    "                        print(\"error happened when handling: \" + sg)\n",
    "\n",
    "                if not confirmed:\n",
    "                    lf.write(sg)\n",
    "                    lf_count += 1\n",
    "\n",
    "print(\"confirmed: \" + str(cf_count))\n",
    "print(\"leave out: \" + str(lf_count))"
   ]
  },
  {
   "cell_type": "markdown",
   "metadata": {},
   "source": [
    "### $n=5$"
   ]
  },
  {
   "cell_type": "code",
   "execution_count": null,
   "metadata": {
    "vscode": {
     "languageId": "python"
    }
   },
   "outputs": [
    {
     "name": "stdout",
     "output_type": "stream",
     "text": [
      "confirmed: 551\n",
      "leave out: 255\n"
     ]
    }
   ],
   "source": [
    "n=5\n",
    "\n",
    "lf_count = 0\n",
    "cf_count = 0\n",
    "\n",
    "with open(\"../data/tricensus_\"+str(n)+\"/leftovers/level_1.dat\",\"r\") as f:\n",
    "    with open(\"../data/tricensus_\"+str(n)+\"/leftovers/level_2.dat\",\"w\") as lf:\n",
    "        with open(\"../data/tricensus_\"+str(n)+\"/confirmed/randomization.dat\",\"w\") as cf:\n",
    "            for sg in f:\n",
    "                confirmed = False\n",
    "                m = snappy.Manifold(sg)\n",
    "                if not m.is_orientable():\n",
    "                    m = m.orientation_cover()\n",
    "\n",
    "                for i in range(12):\n",
    "                    m.randomize()\n",
    "\n",
    "                    try:\n",
    "                        if m.verify_hyperbolicity(bits_prec = 202)[0]:\n",
    "                            cf.write(sg)\n",
    "                            cf_count +=1\n",
    "                            confirmed = True\n",
    "                            break\n",
    "                    except:\n",
    "                        print(\"error happened when handling: \" + sg)\n",
    "\n",
    "                if not confirmed:\n",
    "                    lf.write(sg)\n",
    "                    lf_count += 1\n",
    "\n",
    "print(\"confirmed: \" + str(cf_count))\n",
    "print(\"leave out: \" + str(lf_count))"
   ]
  },
  {
   "cell_type": "code",
   "execution_count": null,
   "metadata": {
    "vscode": {
     "languageId": "python"
    }
   },
   "outputs": [
    {
     "name": "stdout",
     "output_type": "stream",
     "text": [
      "confirmed: 542\n",
      "leave out: 264\n"
     ]
    }
   ],
   "source": [
    "n=5\n",
    "\n",
    "lf_count = 0\n",
    "cf_count = 0 \n",
    "\n",
    "with open(\"../data/tricensus_\"+str(n)+\"/leftovers/level_1.dat\",\"r\") as f:\n",
    "    with open(\"../data/tricensus_\"+str(n)+\"/leftovers/level_2.dat\",\"w\") as lf:\n",
    "        with open(\"../data/tricensus_\"+str(n)+\"/confirmed/non_randomization.dat\",\"w\") as cf:\n",
    "            for sg in f:\n",
    "                m = snappy.Manifold(sg)\n",
    "                if not m.is_orientable():\n",
    "                    m = m.orientation_cover()\n",
    "\n",
    "                try:\n",
    "                    if m.verify_hyperbolicity()[0]:\n",
    "                        cf.write(sg)\n",
    "                        cf_count +=1\n",
    "                    else:\n",
    "                        lf.write(sg)\n",
    "                        lf_count +=1\n",
    "                except:\n",
    "                    m.randomize()\n",
    "                    if m.verify_hyperbolicity()[0]:\n",
    "                        cf.write(sg)\n",
    "                        cf_count +=1\n",
    "                    else:\n",
    "                        lf.write(sg)\n",
    "                        lf_count +=1\n",
    "\n",
    "print(\"confirmed: \" + str(cf_count))\n",
    "print(\"leave out: \" + str(lf_count))"
   ]
  },
  {
   "cell_type": "markdown",
   "metadata": {},
   "source": [
    "### $n=4$"
   ]
  },
  {
   "cell_type": "code",
   "execution_count": null,
   "metadata": {
    "vscode": {
     "languageId": "python"
    }
   },
   "outputs": [
    {
     "name": "stdout",
     "output_type": "stream",
     "text": [
      "confirmed: 136\n",
      "leave out: 63\n"
     ]
    }
   ],
   "source": [
    "n=4\n",
    "\n",
    "lf_count = 0\n",
    "cf_count = 0 \n",
    "\n",
    "with open(\"../data/tricensus_\"+str(n)+\"/leftovers/level_1.dat\",\"r\") as f:\n",
    "    with open(\"../data/tricensus_\"+str(n)+\"/leftovers/level_2.dat\",\"w\") as lf:\n",
    "        with open(\"../data/tricensus_\"+str(n)+\"/confirmed/non_randomization.dat\",\"w\") as cf:\n",
    "            for sg in f:\n",
    "                m = snappy.Manifold(sg)\n",
    "                if not m.is_orientable():\n",
    "                    m = m.orientation_cover()\n",
    "\n",
    "                try:\n",
    "                    if m.verify_hyperbolicity()[0]:\n",
    "                        cf.write(sg)\n",
    "                        cf_count +=1\n",
    "                    else:\n",
    "                        lf.write(sg)\n",
    "                        lf_count +=1\n",
    "                except:\n",
    "                    m.randomize()\n",
    "                    if m.verify_hyperbolicity()[0]:\n",
    "                        cf.write(sg)\n",
    "                        cf_count +=1\n",
    "                    else:\n",
    "                        lf.write(sg)\n",
    "                        lf_count +=1\n",
    "\n",
    "print(\"confirmed: \" + str(cf_count))\n",
    "print(\"leave out: \" + str(lf_count))"
   ]
  },
  {
   "cell_type": "markdown",
   "metadata": {},
   "source": [
    "### $n=3$"
   ]
  },
  {
   "cell_type": "code",
   "execution_count": null,
   "metadata": {
    "vscode": {
     "languageId": "python"
    }
   },
   "outputs": [
    {
     "name": "stdout",
     "output_type": "stream",
     "text": [
      "confirmed: 21\n",
      "leave out: 10\n"
     ]
    }
   ],
   "source": [
    "n=3\n",
    "\n",
    "lf_count = 0\n",
    "cf_count = 0 \n",
    "\n",
    "with open(\"../data/tricensus_\"+str(n)+\"/leftovers/level_1.dat\",\"r\") as f:\n",
    "    with open(\"../data/tricensus_\"+str(n)+\"/leftovers/level_2.dat\",\"w\") as lf:\n",
    "        with open(\"../data/tricensus_\"+str(n)+\"/confirmed/non_randomization.dat\",\"w\") as cf:\n",
    "            for sg in f:\n",
    "                m = snappy.Manifold(sg)\n",
    "                if not m.is_orientable():\n",
    "                    m = m.orientation_cover()\n",
    "\n",
    "                try:\n",
    "                    if m.verify_hyperbolicity()[0]:\n",
    "                        cf.write(sg)\n",
    "                        cf_count +=1\n",
    "                    else:\n",
    "                        lf.write(sg)\n",
    "                        lf_count +=1\n",
    "                except:\n",
    "                    m.randomize()\n",
    "                    if m.verify_hyperbolicity()[0]:\n",
    "                        cf.write(sg)\n",
    "                        cf_count +=1\n",
    "                    else:\n",
    "                        lf.write(sg)\n",
    "                        lf_count +=1\n",
    "\n",
    "print(\"confirmed: \" + str(cf_count))\n",
    "print(\"leave out: \" + str(lf_count))"
   ]
  },
  {
   "cell_type": "markdown",
   "metadata": {},
   "source": [
    "### $n=7$"
   ]
  },
  {
   "cell_type": "code",
   "execution_count": null,
   "metadata": {
    "vscode": {
     "languageId": "python"
    }
   },
   "outputs": [
    {
     "name": "stdout",
     "output_type": "stream",
     "text": [
      "confirmed: 11231\n",
      "leave out: 7466\n"
     ]
    }
   ],
   "source": [
    "n=7\n",
    "\n",
    "lf_count = 0\n",
    "cf_count = 0 \n",
    "\n",
    "with open(\"../data/tricensus_\"+str(n)+\"/leftovers/level_1.dat\",\"r\") as f:\n",
    "    with open(\"../data/tricensus_\"+str(n)+\"/leftovers/level_2.dat\",\"w\") as lf:\n",
    "        with open(\"../data/tricensus_\"+str(n)+\"/confirmed/non_randomization.dat\",\"w\") as cf:\n",
    "            for sg in f:\n",
    "                m = snappy.Manifold(sg)\n",
    "                if not m.is_orientable():\n",
    "                    m = m.orientation_cover()\n",
    "\n",
    "                try:\n",
    "                    if m.verify_hyperbolicity()[0]:\n",
    "                        cf.write(sg)\n",
    "                        cf_count +=1\n",
    "                    else:\n",
    "                        lf.write(sg)\n",
    "                        lf_count +=1\n",
    "                except:\n",
    "                    m.randomize()\n",
    "                    if m.verify_hyperbolicity()[0]:\n",
    "                        cf.write(sg)\n",
    "                        cf_count +=1\n",
    "                    else:\n",
    "                        lf.write(sg)\n",
    "                        lf_count +=1\n",
    "\n",
    "print(\"confirmed: \" + str(cf_count))\n",
    "print(\"leave out: \" + str(lf_count))"
   ]
  },
  {
   "cell_type": "markdown",
   "metadata": {},
   "source": [
    "confirmed: 11231\n",
    "\n",
    "leave out: 7466"
   ]
  },
  {
   "cell_type": "code",
   "execution_count": 71,
   "metadata": {
    "vscode": {
     "languageId": "python"
    }
   },
   "outputs": [
    {
     "name": "stdout",
     "output_type": "stream",
     "text": [
      "confirmed: 495\n",
      "leave out: 290\n"
     ]
    }
   ],
   "source": [
    "n=7\n",
    "\n",
    "lf_count = 0\n",
    "cf_count = 0 \n",
    "\n",
    "with open(\"../data/tricensus_\"+str(n)+\"/leftovers/level_3.dat\",\"r\") as f:\n",
    "    with open(\"../data/tricensus_\"+str(n)+\"/leftovers/level_4.dat\",\"w\") as lf:\n",
    "        with open(\"../data/tricensus_\"+str(n)+\"/confirmed/randomization.dat\",\"w\") as cf:\n",
    "            for sg in f:\n",
    "                confirmed = False\n",
    "                m = snappy.Manifold(sg)\n",
    "                if not m.is_orientable():\n",
    "                    m = m.orientation_cover()\n",
    "\n",
    "                for i in range(12):\n",
    "                    m.randomize()\n",
    "\n",
    "                    try:\n",
    "                        if m.verify_hyperbolicity(bits_prec = 202)[0]:\n",
    "                            cf.write(sg)\n",
    "                            cf_count +=1\n",
    "                            confirmed = True\n",
    "                            break\n",
    "                    except:\n",
    "                        print(\"error happened when handling: \" + sg)\n",
    "\n",
    "                if not confirmed:\n",
    "                    lf.write(sg)\n",
    "                    lf_count += 1\n",
    "\n",
    "print(\"confirmed: \" + str(cf_count))\n",
    "print(\"leave out: \" + str(lf_count))"
   ]
  },
  {
   "cell_type": "code",
   "execution_count": 72,
   "metadata": {
    "vscode": {
     "languageId": "python"
    }
   },
   "outputs": [
    {
     "data": {
      "text/plain": [
       "11726"
      ]
     },
     "execution_count": 72,
     "metadata": {},
     "output_type": "execute_result"
    }
   ],
   "source": [
    "11231+495"
   ]
  },
  {
   "cell_type": "markdown",
   "metadata": {},
   "source": [
    "### An Interesting Example"
   ]
  },
  {
   "cell_type": "code",
   "execution_count": 40,
   "metadata": {
    "vscode": {
     "languageId": "python"
    }
   },
   "outputs": [
    {
     "data": {
      "text/plain": [
       "(False, [])"
      ]
     },
     "execution_count": 40,
     "metadata": {},
     "output_type": "execute_result"
    }
   ],
   "source": [
    "m = snappy.Manifold(\"hLvQPkaefdfgfgjhqhkqnk\")\n",
    "\n",
    "m.verify_hyperbolicity(bits_prec = 300)"
   ]
  },
  {
   "cell_type": "code",
   "execution_count": 42,
   "metadata": {
    "vscode": {
     "languageId": "python"
    }
   },
   "outputs": [
    {
     "data": {
      "text/plain": [
       "[{'rect': 0.583886687428868 + 0.789913691872128*I, 'log': -0.0178719837528040 + 0.934257462244859*I, 'volume': 1.00900736844138, 'accuracies': (0, 0, 0, 0)},\n",
       " {'rect': 0.915755249127723 + 0.914755353059333*I, 'log': 0.258021504432181 + 0.784851924567830*I, 'volume': 0.943648532598039, 'accuracies': (0, 0, 0, 0)},\n",
       " {'rect': 1.04900621974877 + 0.881834673119288*I, 'log': 0.315116054400711 + 0.699033871092257*I, 'volume': 0.892333512147159, 'accuracies': (0, 0, 0, 0)},\n",
       " {'rect': 0.526150980089692 + 0.444295192890360*I, 'log': -0.373028182239319 + 0.701248740341271*I, 'volume': 0.871635315284175, 'accuracies': (0, 0, 0, 0)},\n",
       " {'rect': 0.547801597227255 + 0.443271564390037*I, 'log': -0.350009096274089 + 0.680315110489081*I, 'volume': 0.870365672407765, 'accuracies': (0, 0, 0, 0)},\n",
       " {'rect': -5.18383581624118e16 + 1.07497376256412e17*I, 'log': 39.3207833477684 + 2.02012637659372*I, 'volume': 3.04267052646155 E-16, 'accuracies': (0, 0, 0, 0)},\n",
       " {'rect': 0.893728039959121 + 0.914496258906378*I, 'log': 0.245837676210353 + 0.796883080296276*I, 'volume': 0.950666336809973, 'accuracies': (0, 0, 0, 0)}]"
      ]
     },
     "execution_count": 42,
     "metadata": {},
     "output_type": "execute_result"
    }
   ],
   "source": [
    "m.tetrahedra_shapes()"
   ]
  },
  {
   "cell_type": "code",
   "execution_count": 45,
   "metadata": {
    "vscode": {
     "languageId": "python"
    }
   },
   "outputs": [
    {
     "data": {
      "text/plain": [
       "True"
      ]
     },
     "execution_count": 45,
     "metadata": {},
     "output_type": "execute_result"
    }
   ],
   "source": [
    "m.is_orientable()"
   ]
  },
  {
   "cell_type": "code",
   "execution_count": 53,
   "metadata": {
    "vscode": {
     "languageId": "python"
    }
   },
   "outputs": [
    {
     "data": {
      "text/plain": [
       "[Non-orientable one-sided with euler = 0]"
      ]
     },
     "execution_count": 53,
     "metadata": {},
     "output_type": "execute_result"
    }
   ],
   "source": [
    "m.splitting_surfaces()"
   ]
  },
  {
   "cell_type": "code",
   "execution_count": 47,
   "metadata": {
    "vscode": {
     "languageId": "python"
    }
   },
   "outputs": [],
   "source": [
    "a = m.split(0)"
   ]
  },
  {
   "cell_type": "code",
   "execution_count": 52,
   "metadata": {
    "vscode": {
     "languageId": "python"
    }
   },
   "outputs": [
    {
     "data": {
      "text/plain": [
       "(True,\n",
       " [0.44922484676966? + 0.52738451799860?*I,\n",
       "  0.57182316908065? + 0.97906033666095?*I,\n",
       "  0.94718281048716? + 0.9069573074158?*I,\n",
       "  -0.05281718951284? + 0.90695730741581?*I,\n",
       "  0.54521988236011? + 0.46968377927387?*I,\n",
       "  0.44922484676966? + 0.52738451799860?*I])"
      ]
     },
     "execution_count": 52,
     "metadata": {},
     "output_type": "execute_result"
    }
   ],
   "source": [
    "a[0].verify_hyperbolicity()"
   ]
  },
  {
   "cell_type": "code",
   "execution_count": 13,
   "metadata": {
    "vscode": {
     "languageId": "python"
    }
   },
   "outputs": [
    {
     "name": "stdout",
     "output_type": "stream",
     "text": [
      "True\n",
      "False\n",
      "False\n",
      "True\n",
      "True\n"
     ]
    }
   ],
   "source": [
    "with open(\"../data/tricensus_7/error/singular_matrix.dat\", \"r\") as er:\n",
    "    for sg in er:\n",
    "        print(snappy.Manifold(sg).is_orientable())"
   ]
  }
 ],
 "metadata": {
  "kernelspec": {
   "display_name": "SageMath 10.4",
   "language": "sage",
   "name": "SageMath-10.4"
  },
  "language_info": {
   "codemirror_mode": {
    "name": "ipython",
    "version": 3
   },
   "file_extension": ".py",
   "mimetype": "text/x-python",
   "name": "sage",
   "nbconvert_exporter": "python",
   "pygments_lexer": "ipython3",
   "version": "3.12.4"
  }
 },
 "nbformat": 4,
 "nbformat_minor": 2
}
