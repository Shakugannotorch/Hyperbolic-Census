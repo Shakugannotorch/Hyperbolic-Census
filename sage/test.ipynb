{
 "cells": [
  {
   "cell_type": "code",
   "execution_count": 34,
   "metadata": {
    "vscode": {
     "languageId": "python"
    }
   },
   "outputs": [],
   "source": [
    "import snappy\n",
    "import regina\n",
    "import re"
   ]
  },
  {
   "cell_type": "markdown",
   "metadata": {},
   "source": [
    "## Consistency with Known Census"
   ]
  },
  {
   "cell_type": "code",
   "execution_count": 71,
   "metadata": {
    "vscode": {
     "languageId": "python"
    }
   },
   "outputs": [
    {
     "name": "stdout",
     "output_type": "stream",
     "text": [
      "Valid Triangulation Counted: 539\n"
     ]
    }
   ],
   "source": [
    "n=5\n",
    "count = 0\n",
    "census_set = set()\n",
    "valid_set = set()\n",
    "\n",
    "\n",
    "with open(\"../data/tricensus_\"+str(n)+\"/confirmed/randomization.dat\",\"r\") as f:\n",
    "    with open('../tmpp/log.txt','w') as lo:\n",
    "        for sg in f:\n",
    "            lookup = regina.Census.lookup(sg.strip())\n",
    "            if len(lookup) >0:\n",
    "                name =lookup[0].name().split(' : ')[0]\n",
    "                lo.write(name)\n",
    "                if snappy.Manifold(name).num_tetrahedra() == n:\n",
    "                    count +=1\n",
    "                    valid_set.add(sg)\n",
    "                    census_set.add(name)\n",
    "\n",
    "            lo.write(sg)\n",
    "\n",
    "\n",
    "print(\"Valid Triangulation Counted: \" + str(count))"
   ]
  },
  {
   "cell_type": "code",
   "execution_count": 70,
   "metadata": {
    "vscode": {
     "languageId": "python"
    }
   },
   "outputs": [
    {
     "name": "stdout",
     "output_type": "stream",
     "text": [
      "Valid Triangulation Counted: 10615\n"
     ]
    }
   ],
   "source": [
    "n=7\n",
    "count = 0\n",
    "census_set = set()\n",
    "\n",
    "with open('../tmpp/log.txt','w') as lo:\n",
    "    with open(\"../data/tricensus_\"+str(n)+\"/confirmed/non_randomization.dat\",\"r\") as f:\n",
    "        for sg in f:\n",
    "            lookup = regina.Census.lookup(sg.strip())\n",
    "            if len(lookup) >0:\n",
    "                name =lookup[0].name().split(' : ')[0]\n",
    "                lo.write(name)\n",
    "                if snappy.Manifold(name).num_tetrahedra() == n:\n",
    "                    count +=1\n",
    "                    census_set.add(name)\n",
    "\n",
    "            lo.write(sg)\n",
    "\n",
    "    with open(\"../data/tricensus_\"+str(n)+\"/confirmed/randomization.dat\",\"r\") as f:\n",
    "\n",
    "        for sg in f:\n",
    "            lookup = regina.Census.lookup(sg.strip())\n",
    "            if len(lookup) >0:\n",
    "                name =lookup[0].name().split(' : ')[0]\n",
    "                lo.write(name)\n",
    "                if snappy.Manifold(name).num_tetrahedra() == n:\n",
    "                    count +=1\n",
    "                    census_set.add(name)\n",
    "\n",
    "            lo.write(sg)\n",
    "\n",
    "\n",
    "print(\"Valid Triangulation Counted: \" + str(count))"
   ]
  },
  {
   "cell_type": "code",
   "execution_count": 38,
   "metadata": {
    "vscode": {
     "languageId": "python"
    }
   },
   "outputs": [
    {
     "name": "stdout",
     "output_type": "stream",
     "text": [
      "Valid Triangulation Counted: 172032\n"
     ]
    }
   ],
   "source": [
    "n=9\n",
    "\n",
    "count = 0\n",
    "census_set = set()\n",
    "\n",
    "randomization_list = [20,40,60,100]\n",
    "\n",
    "with open('../tmpp/log.txt','w') as lo:\n",
    "\n",
    "    for r in randomization_list:    \n",
    "        with open(\"../data/tricensus_\"+str(n)+\"/confirmed/randomization_\"+str(r)+\".dat\",\"r\") as f:\n",
    "\n",
    "            for sg in f:\n",
    "                lookup = regina.Census.lookup(sg.strip())\n",
    "                if len(lookup) >0:\n",
    "                    try:\n",
    "                        name =lookup[0].name().split(' : ')[0]\n",
    "                        if re.split('[o n _]',name)[1] == str(n):\n",
    "                            count += 1\n",
    "                            census_set.add(name)\n",
    "                    except:\n",
    "                        print(lookup)\n",
    "                        break\n",
    "\n",
    "                lo.write(sg)\n",
    "\n",
    "\n",
    "print(\"Valid Triangulation Counted: \" + str(count))"
   ]
  },
  {
   "cell_type": "code",
   "execution_count": 39,
   "metadata": {
    "vscode": {
     "languageId": "python"
    }
   },
   "outputs": [
    {
     "data": {
      "text/plain": [
       "'o9_03912 : #1'"
      ]
     },
     "execution_count": 39,
     "metadata": {},
     "output_type": "execute_result"
    }
   ],
   "source": [
    "regina.Census.lookup('jLALAMPbcbeefghiixxjgsxxxhw')[0].name()"
   ]
  },
  {
   "cell_type": "code",
   "execution_count": 15,
   "metadata": {
    "vscode": {
     "languageId": "python"
    }
   },
   "outputs": [
    {
     "data": {
      "text/plain": [
       "o9_03912(0,0)"
      ]
     },
     "execution_count": 15,
     "metadata": {},
     "output_type": "execute_result"
    }
   ],
   "source": [
    "snappy.Manifold('o9_03912')"
   ]
  },
  {
   "cell_type": "code",
   "execution_count": 40,
   "metadata": {
    "vscode": {
     "languageId": "python"
    }
   },
   "outputs": [
    {
     "ename": "OSError",
     "evalue": "The manifold file n9_0248 was not found.\n\n    A Triangulation or Manifold is specified by a string or a byte sequence, according to the\n    conventions detailed in its docstring.\n    ",
     "output_type": "error",
     "traceback": [
      "\u001b[0;31m---------------------------------------------------------------------------\u001b[0m",
      "\u001b[0;31mOSError\u001b[0m                                   Traceback (most recent call last)",
      "Cell \u001b[0;32mIn[40], line 1\u001b[0m\n\u001b[0;32m----> 1\u001b[0m \u001b[43msnappy\u001b[49m\u001b[38;5;241;43m.\u001b[39;49m\u001b[43mManifold\u001b[49m\u001b[43m(\u001b[49m\u001b[38;5;124;43m'\u001b[39;49m\u001b[38;5;124;43mn9_0248\u001b[39;49m\u001b[38;5;124;43m'\u001b[39;49m\u001b[43m)\u001b[49m\n",
      "File \u001b[0;32mcython/core/triangulation.pyx:102\u001b[0m, in \u001b[0;36mSnapPy.Triangulation.__cinit__\u001b[0;34m()\u001b[0m\n",
      "File \u001b[0;32mcython/core/triangulation.pyx:221\u001b[0m, in \u001b[0;36mSnapPy.Triangulation.get_triangulation\u001b[0;34m()\u001b[0m\n",
      "File \u001b[0;32mcython/core/triangulation.pyx:283\u001b[0m, in \u001b[0;36mSnapPy.Triangulation.get_from_file\u001b[0;34m()\u001b[0m\n",
      "\u001b[0;31mOSError\u001b[0m: The manifold file n9_0248 was not found.\n\n    A Triangulation or Manifold is specified by a string or a byte sequence, according to the\n    conventions detailed in its docstring.\n    "
     ]
    }
   ],
   "source": [
    "snappy.Manifold('n9_0248')"
   ]
  },
  {
   "cell_type": "code",
   "execution_count": null,
   "metadata": {
    "vscode": {
     "languageId": "python"
    }
   },
   "outputs": [],
   "source": []
  }
 ],
 "metadata": {
  "kernelspec": {
   "display_name": "SageMath 10.4",
   "language": "sage",
   "name": "SageMath-10.4"
  },
  "language_info": {
   "codemirror_mode": {
    "name": "ipython",
    "version": 3
   },
   "file_extension": ".py",
   "mimetype": "text/x-python",
   "name": "sage",
   "nbconvert_exporter": "python",
   "pygments_lexer": "ipython3",
   "version": "3.12.4"
  }
 },
 "nbformat": 4,
 "nbformat_minor": 2
}
